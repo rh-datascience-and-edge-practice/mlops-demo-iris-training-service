{
 "cells": [
  {
   "cell_type": "code",
   "execution_count": null,
   "id": "dd94bf1d",
   "metadata": {},
   "outputs": [],
   "source": [
    "import pickle\n",
    "\n",
    "import pandas as pd\n",
    "\n",
    "import numpy as np\n",
    "\n",
    "from sklearn import datasets\n",
    "\n",
    "from sklearn.model_selection import train_test_split\n",
    "\n",
    "from sklearn.ensemble import RandomForestClassifier"
   ]
  },
  {
   "cell_type": "code",
   "execution_count": null,
   "id": "8f8d2437",
   "metadata": {},
   "outputs": [],
   "source": [
    "iris = datasets.load_iris()\n",
    "data = pd.DataFrame(\n",
    "    {\n",
    "        \"sepalLength\": iris.data[:, 0],\n",
    "        \"sepalWidth\": iris.data[:, 1],\n",
    "        \"petalLength\": iris.data[:, 2],\n",
    "        \"petalWidth\": iris.data[:, 3],\n",
    "        \"species\": iris.target,\n",
    "    }\n",
    ")\n",
    "data.head()"
   ]
  },
  {
   "cell_type": "code",
   "execution_count": null,
   "id": "8ded8c83",
   "metadata": {},
   "outputs": [],
   "source": [
    "X = data[[\"sepalLength\", \"sepalWidth\", \"petalLength\", \"petalWidth\"]]  # Features\n",
    "y = data[\"species\"]  # Labels\n",
    "\n",
    "# Split dataset into training set and test set\n",
    "X_train, X_test, y_train, y_test = train_test_split(\n",
    "    X, y, test_size=0.3\n",
    ")  # 70% training and 30% test\n",
    "\n",
    "type(X_train)"
   ]
  },
  {
   "cell_type": "code",
   "execution_count": null,
   "id": "c1dd0e13",
   "metadata": {},
   "outputs": [],
   "source": [
    "# Create a Gaussian Classifier\n",
    "model = RandomForestClassifier(n_estimators=100)\n",
    "\n",
    "# Train the model using the training sets y_pred=clf.predict(X_test)\n",
    "model.fit(X_train, y_train)\n",
    "\n",
    "y_pred = model.predict(X_test)"
   ]
  },
  {
   "cell_type": "code",
   "execution_count": null,
   "id": "da5e3fd9",
   "metadata": {},
   "outputs": [],
   "source": [
    "print(X_train)"
   ]
  },
  {
   "cell_type": "code",
   "execution_count": null,
   "id": "3e4d0447",
   "metadata": {},
   "outputs": [],
   "source": [
    "feature_names = [\"sepalLength\", \"sepalWidth\", \"petalLength\", \"petalWidth\"]\n",
    "\n",
    "input_values = [[5, 3, 1.6, 0.2]]\n",
    "\n",
    "df = pd.DataFrame(data=input_values, columns=feature_names)\n",
    "\n",
    "model.predict(df)"
   ]
  },
  {
   "cell_type": "code",
   "execution_count": null,
   "id": "da16e483",
   "metadata": {},
   "outputs": [],
   "source": [
    "# save the model to disk\n",
    "filename = \"../models/iris-model.pkl\"\n",
    "pickle.dump(model, open(filename, \"wb\"))\n",
    "\n",
    "# some time later...\n",
    "\n",
    "# load the model from disk\n",
    "# loaded_model = pickle.load(open(filename, 'rb'))\n",
    "# result = loaded_model.score(X_test, Y_test)\n",
    "# print(result)"
   ]
  }
 ],
 "metadata": {
  "kernelspec": {
   "display_name": "Python 3.9.7 ('.venv': pipenv)",
   "language": "python",
   "name": "python3"
  },
  "language_info": {
   "codemirror_mode": {
    "name": "ipython",
    "version": 3
   },
   "file_extension": ".py",
   "mimetype": "text/x-python",
   "name": "python",
   "nbconvert_exporter": "python",
   "pygments_lexer": "ipython3",
   "version": "3.9.13"
  },
  "vscode": {
   "interpreter": {
    "hash": "e1c9d9bbdfe72dc9c4a5f0aab8e4e8a9930d72c31b707c9e6a5d03e9be8bcbf1"
   }
  }
 },
 "nbformat": 4,
 "nbformat_minor": 5
}
